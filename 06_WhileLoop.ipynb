{
 "cells": [
  {
   "cell_type": "code",
   "execution_count": 4,
   "metadata": {},
   "outputs": [
    {
     "name": "stdout",
     "output_type": "stream",
     "text": [
      "1\n",
      "2\n",
      "3\n",
      "4\n",
      "total is:  10\n"
     ]
    }
   ],
   "source": [
    "total = 0\n",
    "for i in range(1,5):\n",
    "    total += i\n",
    "    print(i)\n",
    "print(\"total is: \", total)"
   ]
  },
  {
   "cell_type": "code",
   "execution_count": 6,
   "metadata": {},
   "outputs": [
    {
     "name": "stdout",
     "output_type": "stream",
     "text": [
      "10\n"
     ]
    }
   ],
   "source": [
    "total2 = 0\n",
    "j=1\n",
    "while j < 5:\n",
    "    total2 += j\n",
    "    j += 1\n",
    "\n",
    "print(total2)"
   ]
  },
  {
   "cell_type": "code",
   "execution_count": 14,
   "metadata": {},
   "outputs": [
    {
     "name": "stdout",
     "output_type": "stream",
     "text": [
      "5\n",
      "5\n",
      "4\n",
      "9\n",
      "4\n",
      "13\n",
      "3\n",
      "16\n",
      "1\n",
      "17\n",
      "total is:  17\n"
     ]
    }
   ],
   "source": [
    "#given_list = [5, 4, 4, 3, 1, -2, -3, -5]\n",
    "given_list = [5, 4, 4, 3, 1]\n",
    "total3 = 0\n",
    "i=0\n",
    "while i < len(given_list) and  given_list[i]>0:\n",
    "    print(given_list[i])\n",
    "    total3 += given_list[i]\n",
    "    print(total3)\n",
    "    i += 1 \n",
    "    \n",
    "print(\"total is: \", total3)"
   ]
  },
  {
   "cell_type": "code",
   "execution_count": 17,
   "metadata": {},
   "outputs": [
    {
     "name": "stdout",
     "output_type": "stream",
     "text": [
      "5\n",
      "4\n",
      "4\n",
      "3\n",
      "1\n",
      "total is:  17\n"
     ]
    }
   ],
   "source": [
    "given_list2 = [5, 4, 4, 3, 1 , -2, -3, -5]\n",
    "total4 = 0\n",
    "\n",
    "for element in given_list2:\n",
    "    if element <= 0:\n",
    "        break\n",
    "    total4 += element\n",
    "    print(element)\n",
    "print(\"total is: \", total4)"
   ]
  },
  {
   "cell_type": "code",
   "execution_count": 28,
   "metadata": {},
   "outputs": [
    {
     "name": "stdout",
     "output_type": "stream",
     "text": [
      "5\n",
      "4\n",
      "4\n",
      "3\n",
      "1\n",
      "total is:  17\n"
     ]
    }
   ],
   "source": [
    "given_list3 = [5, 4, 4, 3, 1 , -2, -3, -5]\n",
    "total6 = 0\n",
    "i = 0\n",
    "\n",
    "while True:\n",
    "    total6 += given_list3[i]\n",
    "    print(given_list3[i])\n",
    "    i += 1\n",
    "    if given_list3[i] <= 0:\n",
    "        break\n",
    "    \n",
    "          \n",
    "print(\"total is: \", total6)"
   ]
  },
  {
   "cell_type": "code",
   "execution_count": 30,
   "metadata": {},
   "outputs": [
    {
     "name": "stdout",
     "output_type": "stream",
     "text": [
      "-2\n",
      "-3\n",
      "-5\n",
      "-7\n",
      "-17\n"
     ]
    }
   ],
   "source": [
    "# sum all negative number\n",
    "given_list3 = [7, 5, 4, 4, 3, 1, -2, -3, -5, -7]\n",
    "i = 0\n",
    "total7 = 0 \n",
    "               \n",
    "for element in given_list3:\n",
    "    if element <=0:\n",
    "        total7 += element\n",
    "        print(element)\n",
    "print(total7)\n"
   ]
  },
  {
   "cell_type": "code",
   "execution_count": null,
   "metadata": {},
   "outputs": [],
   "source": []
  }
 ],
 "metadata": {
  "kernelspec": {
   "display_name": "Python 3",
   "language": "python",
   "name": "python3"
  },
  "language_info": {
   "codemirror_mode": {
    "name": "ipython",
    "version": 3
   },
   "file_extension": ".py",
   "mimetype": "text/x-python",
   "name": "python",
   "nbconvert_exporter": "python",
   "pygments_lexer": "ipython3",
   "version": "3.7.4"
  }
 },
 "nbformat": 4,
 "nbformat_minor": 2
}
