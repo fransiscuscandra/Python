{
 "cells": [
  {
   "cell_type": "code",
   "execution_count": 10,
   "metadata": {},
   "outputs": [],
   "source": [
    "class House:\n",
    "    def __init__(self, name, color, weight):\n",
    "        self.name = name\n",
    "        self.color = color\n",
    "        self.weight = weight \n",
    "    \n",
    "    def introduce_self(self):\n",
    "        print(\"My name is \"+ self.name)  #this in Java\n",
    "        "
   ]
  },
  {
   "cell_type": "code",
   "execution_count": 11,
   "metadata": {},
   "outputs": [],
   "source": [
    "#h1 = House()\n",
    "#h1.name = \"Tom\"\n",
    "#h1.color = \"red\"\n",
    "#h1.weight = 30 \n",
    "\n",
    "#h2 = House()\n",
    "#h2.name = \"Jerry\"\n",
    "#h2.color = \"blue\"\n",
    "#h2.weight = 40 \n",
    "\n",
    "h1 = House(\"Tom\", \"red\", 30)\n",
    "h2 = House(\"Jerry\", \"blue\", 40 )"
   ]
  },
  {
   "cell_type": "code",
   "execution_count": 12,
   "metadata": {},
   "outputs": [
    {
     "name": "stdout",
     "output_type": "stream",
     "text": [
      "My name is Tom\n",
      "My name is Jerry\n"
     ]
    }
   ],
   "source": [
    "h1.introduce_self()\n",
    "h2.introduce_self() \n"
   ]
  },
  {
   "cell_type": "code",
   "execution_count": null,
   "metadata": {
    "collapsed": true
   },
   "outputs": [],
   "source": []
  }
 ],
 "metadata": {
  "kernelspec": {
   "display_name": "Python 3",
   "language": "python",
   "name": "python3"
  },
  "language_info": {
   "codemirror_mode": {
    "name": "ipython",
    "version": 3
   },
   "file_extension": ".py",
   "mimetype": "text/x-python",
   "name": "python",
   "nbconvert_exporter": "python",
   "pygments_lexer": "ipython3",
   "version": "3.6.3"
  }
 },
 "nbformat": 4,
 "nbformat_minor": 2
}
